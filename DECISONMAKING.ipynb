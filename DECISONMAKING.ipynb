{
  "nbformat": 4,
  "nbformat_minor": 0,
  "metadata": {
    "colab": {
      "name": "Untitled4.ipynb",
      "provenance": [],
      "collapsed_sections": [],
      "authorship_tag": "ABX9TyMr/BfA9fbleEwwnjR/ULfT",
      "include_colab_link": true
    },
    "kernelspec": {
      "name": "python2",
      "display_name": "Python 2"
    }
  },
  "cells": [
    {
      "cell_type": "markdown",
      "metadata": {
        "id": "view-in-github",
        "colab_type": "text"
      },
      "source": [
        "<a href=\"https://colab.research.google.com/github/Jatin666/PyProject1/blob/master/DECISONMAKING.ipynb\" target=\"_parent\"><img src=\"https://colab.research.google.com/assets/colab-badge.svg\" alt=\"Open In Colab\"/></a>"
      ]
    },
    {
      "cell_type": "code",
      "metadata": {
        "id": "J_4Zjs5qC1T1",
        "colab_type": "code",
        "colab": {}
      },
      "source": [
        ""
      ],
      "execution_count": 0,
      "outputs": []
    },
    {
      "cell_type": "markdown",
      "metadata": {
        "id": "_6vZthAMC22s",
        "colab_type": "text"
      },
      "source": [
        "**FIFTH PARAMETER**\n",
        "\n",
        "**DECISION MAKING:**\n",
        "\n",
        "1.IF STATEMENT\n",
        "\n",
        "2.ELSE STATEMENT\n",
        "\n",
        "3.ELIF STATEMENT\n",
        "\n"
      ]
    },
    {
      "cell_type": "markdown",
      "metadata": {
        "id": "zzvcCxWlQuNN",
        "colab_type": "text"
      },
      "source": [
        "**FIND RHE GREATEST NUMBER OUT OF THREE NUMBERS CAN BE PREDEFINED OR USERDEFINED**"
      ]
    },
    {
      "cell_type": "code",
      "metadata": {
        "id": "kzjNMy1uQsXw",
        "colab_type": "code",
        "colab": {}
      },
      "source": [
        "a=int(input(\"enter the 1st value\"))\n",
        "b=int(input(\"enter the 2nd value\"))\n",
        "c=int(input(\"enter the 3rd value\"))\n",
        "if(a>b):\n",
        "    if(a>c):\n",
        "        print(\"a is greater\")\n",
        "    else:\n",
        "        print(\"c is greater\")\n",
        "else:\n",
        "    if(b>c):\n",
        "        print(\"b is greater\")\n",
        "    else:\n",
        "        print(\"c is greater\")\n"
      ],
      "execution_count": 0,
      "outputs": []
    }
  ]
}