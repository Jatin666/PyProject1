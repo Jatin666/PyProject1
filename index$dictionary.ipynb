{
  "nbformat": 4,
  "nbformat_minor": 0,
  "metadata": {
    "colab": {
      "name": "Untitled3.ipynb",
      "provenance": [],
      "authorship_tag": "ABX9TyPGMZjwNO2d7WBfRCIwoV1o",
      "include_colab_link": true
    },
    "kernelspec": {
      "name": "python3",
      "display_name": "Python 3"
    }
  },
  "cells": [
    {
      "cell_type": "markdown",
      "metadata": {
        "id": "view-in-github",
        "colab_type": "text"
      },
      "source": [
        "<a href=\"https://colab.research.google.com/github/Jatin666/PyProject1/blob/master/index%24dictionary.ipynb\" target=\"_parent\"><img src=\"https://colab.research.google.com/assets/colab-badge.svg\" alt=\"Open In Colab\"/></a>"
      ]
    },
    {
      "cell_type": "code",
      "metadata": {
        "id": "J1tkQ6OM6dG4",
        "colab_type": "code",
        "colab": {
          "base_uri": "https://localhost:8080/",
          "height": 34
        },
        "outputId": "397c231a-582c-4f8c-af7d-15f6f525e88d"
      },
      "source": [
        "list=['hitesh','nabieu','gary']\n",
        "print(list)"
      ],
      "execution_count": 4,
      "outputs": [
        {
          "output_type": "stream",
          "text": [
            "['hitesh', 'nabieu', 'gary']\n"
          ],
          "name": "stdout"
        }
      ]
    },
    {
      "cell_type": "code",
      "metadata": {
        "id": "XTJKeQPG7Qp4",
        "colab_type": "code",
        "colab": {
          "base_uri": "https://localhost:8080/",
          "height": 34
        },
        "outputId": "2d6e8874-c484-4a24-ab8b-053438af0f9b"
      },
      "source": [
        "tuple=('hitesh','nabieu','gary')\n",
        "print(tuple)"
      ],
      "execution_count": 5,
      "outputs": [
        {
          "output_type": "stream",
          "text": [
            "('hitesh', 'nabieu', 'gary')\n"
          ],
          "name": "stdout"
        }
      ]
    },
    {
      "cell_type": "code",
      "metadata": {
        "id": "yvtxFCfJ7Z_l",
        "colab_type": "code",
        "colab": {
          "base_uri": "https://localhost:8080/",
          "height": 34
        },
        "outputId": "1267af11-2777-4267-ac67-07b66d2e9598"
      },
      "source": [
        "s1=\"gary\"\n",
        "s2=\"hitesh\"\n",
        "s3=\"pankaj\"\n",
        "s4=\"jatin\"\n",
        "s5=\"nabieu\"\n",
        "s6=\"diksha\"\n",
        "\n",
        "print(s1+\" \"+s2+\" \"+s3+\" \"+s4+\" \"+s5+\" \"+s6+\" \")"
      ],
      "execution_count": 7,
      "outputs": [
        {
          "output_type": "stream",
          "text": [
            "gary hitesh pankaj jatin nabieu diksha \n"
          ],
          "name": "stdout"
        }
      ]
    },
    {
      "cell_type": "markdown",
      "metadata": {
        "id": "Z-_pLrx3-0Aq",
        "colab_type": "text"
      },
      "source": [
        "using of index"
      ]
    },
    {
      "cell_type": "code",
      "metadata": {
        "id": "zsreB7Yl-ZyV",
        "colab_type": "code",
        "colab": {
          "base_uri": "https://localhost:8080/",
          "height": 34
        },
        "outputId": "ef54268d-23f2-488b-cd44-52bc9fc13d60"
      },
      "source": [
        "student=(\"gary\",\"hitesh\",\"pankaj\",\"jatin\",\"nabieu\",\"diksha\")\n",
        "print(student[0])"
      ],
      "execution_count": 8,
      "outputs": [
        {
          "output_type": "stream",
          "text": [
            "gary\n"
          ],
          "name": "stdout"
        }
      ]
    },
    {
      "cell_type": "code",
      "metadata": {
        "id": "bnk3eYjv-87i",
        "colab_type": "code",
        "colab": {
          "base_uri": "https://localhost:8080/",
          "height": 34
        },
        "outputId": "e3afb8b7-ed75-4344-d523-2157b39586e5"
      },
      "source": [
        "student=(\"gary\",\"hitesh\",\"pankaj\",\"jatin\",\"nabieu\",\"diksha\")\n",
        "dictionary={'name':'gary'}\n",
        "print(dictionary['name'])"
      ],
      "execution_count": 11,
      "outputs": [
        {
          "output_type": "stream",
          "text": [
            "gary\n"
          ],
          "name": "stdout"
        }
      ]
    }
  ]
}