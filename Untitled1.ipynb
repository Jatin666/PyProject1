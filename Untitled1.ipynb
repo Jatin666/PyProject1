{
  "nbformat": 4,
  "nbformat_minor": 0,
  "metadata": {
    "colab": {
      "name": "Untitled1.ipynb",
      "provenance": [],
      "collapsed_sections": [],
      "authorship_tag": "ABX9TyME6mwXWC0jmuPe0QU/Khl4",
      "include_colab_link": true
    },
    "kernelspec": {
      "name": "python3",
      "display_name": "Python 3"
    }
  },
  "cells": [
    {
      "cell_type": "markdown",
      "metadata": {
        "id": "view-in-github",
        "colab_type": "text"
      },
      "source": [
        "<a href=\"https://colab.research.google.com/github/Jatin666/PyProject1/blob/master/Untitled1.ipynb\" target=\"_parent\"><img src=\"https://colab.research.google.com/assets/colab-badge.svg\" alt=\"Open In Colab\"/></a>"
      ]
    },
    {
      "cell_type": "markdown",
      "metadata": {
        "id": "8HxAbQlr4Yj5",
        "colab_type": "text"
      },
      "source": [
        "Lab day 1"
      ]
    },
    {
      "cell_type": "markdown",
      "metadata": {
        "id": "8M1iARDv7gAX",
        "colab_type": "text"
      },
      "source": [
        "Lab task 3.\n"
      ]
    },
    {
      "cell_type": "code",
      "metadata": {
        "id": "aJm-J02J7lN7",
        "colab_type": "code",
        "colab": {
          "base_uri": "https://localhost:8080/",
          "height": 34
        },
        "outputId": "419db9ec-8f57-4d88-fb13-0dd5456c1533"
      },
      "source": [
        "#making a program with Print command with 'single quotes'\n",
        "print('Hello world')"
      ],
      "execution_count": 2,
      "outputs": [
        {
          "output_type": "stream",
          "text": [
            "Hello world\n"
          ],
          "name": "stdout"
        }
      ]
    },
    {
      "cell_type": "code",
      "metadata": {
        "id": "WNy2zpzS8EM7",
        "colab_type": "code",
        "colab": {
          "base_uri": "https://localhost:8080/",
          "height": 34
        },
        "outputId": "86091680-8f01-46b1-d924-b94b7c9096fc"
      },
      "source": [
        "#making a program with Print command with \"Double quotes\"\n",
        "print(\"Hii, i am Jatin\")"
      ],
      "execution_count": 3,
      "outputs": [
        {
          "output_type": "stream",
          "text": [
            "Hii, i am Jatin\n"
          ],
          "name": "stdout"
        }
      ]
    },
    {
      "cell_type": "code",
      "metadata": {
        "id": "P9Rj4wE38WF1",
        "colab_type": "code",
        "colab": {
          "base_uri": "https://localhost:8080/",
          "height": 34
        },
        "outputId": "31e85c76-6fcb-4e42-9c93-d4219b20e071"
      },
      "source": [
        "#making a program with Print command with '''Triple Quotes'''\n",
        "print('''Welcome to python''')"
      ],
      "execution_count": 4,
      "outputs": [
        {
          "output_type": "stream",
          "text": [
            "Welcome to python\n"
          ],
          "name": "stdout"
        }
      ]
    },
    {
      "cell_type": "markdown",
      "metadata": {
        "id": "bMNZKJqx8vP6",
        "colab_type": "text"
      },
      "source": [
        "1.WORD = 'SINGLE QUOTE'\n",
        "\n",
        "2.SENTENCE =\"DOUBLE QUOTE\"\n",
        "\n",
        "3.PARAGRAPH ='''TRIPLE QUOTE''' "
      ]
    },
    {
      "cell_type": "code",
      "metadata": {
        "id": "0bE1owK89qzB",
        "colab_type": "code",
        "colab": {
          "base_uri": "https://localhost:8080/",
          "height": 34
        },
        "outputId": "0f86fec0-8b69-4151-b1d4-2cecf6173592"
      },
      "source": [
        "#word\n",
        "print('code-techniq')"
      ],
      "execution_count": 5,
      "outputs": [
        {
          "output_type": "stream",
          "text": [
            "code-techniq\n"
          ],
          "name": "stdout"
        }
      ]
    },
    {
      "cell_type": "code",
      "metadata": {
        "id": "9OVoTQuP-CS5",
        "colab_type": "code",
        "colab": {
          "base_uri": "https://localhost:8080/",
          "height": 34
        },
        "outputId": "dc5ef2b2-dee9-4bf5-98c0-542dd7b93c08"
      },
      "source": [
        "#sentence\n",
        "print(\"hii this is my first code and it's really good\")\n"
      ],
      "execution_count": 6,
      "outputs": [
        {
          "output_type": "stream",
          "text": [
            "hii this is my first code and it's really good\n"
          ],
          "name": "stdout"
        }
      ]
    },
    {
      "cell_type": "code",
      "metadata": {
        "id": "1wgf8PCJ-aHI",
        "colab_type": "code",
        "colab": {
          "base_uri": "https://localhost:8080/",
          "height": 185
        },
        "outputId": "0003a759-6606-4781-c949-407b3821108e"
      },
      "source": [
        "#paragraph\n",
        "print('''“Life is Now”\n",
        "Time flies and memories fade.\n",
        "People change and new friendships are made.\n",
        "Only the true remain forever at our side.\n",
        "Eventually the disappointment and pain will subside.\n",
        "\n",
        "It is all about the journey and what has yet to come.\n",
        "Life is what you make of it; you are what you've become.\n",
        "Life is too short to hold onto regrets.\n",
        "Forgiveness is key even though you may never forget.'''\n",
        ")"
      ],
      "execution_count": 8,
      "outputs": [
        {
          "output_type": "stream",
          "text": [
            "“Life is Now”\n",
            "Time flies and memories fade.\n",
            "People change and new friendships are made.\n",
            "Only the true remain forever at our side.\n",
            "Eventually the disappointment and pain will subside.\n",
            "\n",
            "It is all about the journey and what has yet to come.\n",
            "Life is what you make of it; you are what you've become.\n",
            "Life is too short to hold onto regrets.\n",
            "Forgiveness is key even though you may never forget.\n"
          ],
          "name": "stdout"
        }
      ]
    },
    {
      "cell_type": "code",
      "metadata": {
        "id": "fNoDLM-G_fIz",
        "colab_type": "code",
        "colab": {
          "base_uri": "https://localhost:8080/",
          "height": 370
        },
        "outputId": "247716cf-4ae5-4f30-cf48-ec04d830a9f3"
      },
      "source": [
        "help()"
      ],
      "execution_count": 10,
      "outputs": [
        {
          "output_type": "stream",
          "text": [
            "\n",
            "Welcome to Python 3.6's help utility!\n",
            "\n",
            "If this is your first time using Python, you should definitely check out\n",
            "the tutorial on the Internet at https://docs.python.org/3.6/tutorial/.\n",
            "\n",
            "Enter the name of any module, keyword, or topic to get help on writing\n",
            "Python programs and using Python modules.  To quit this help utility and\n",
            "return to the interpreter, just type \"quit\".\n",
            "\n",
            "To get a list of available modules, keywords, symbols, or topics, type\n",
            "\"modules\", \"keywords\", \"symbols\", or \"topics\".  Each module also comes\n",
            "with a one-line summary of what it does; to list the modules whose name\n",
            "or summary contain a given string such as \"spam\", type \"modules spam\".\n",
            "\n",
            "help> \n",
            "\n",
            "You are now leaving help and returning to the Python interpreter.\n",
            "If you want to ask for help on a particular object directly from the\n",
            "interpreter, you can type \"help(object)\".  Executing \"help('string')\"\n",
            "has the same effect as typing a particular string at the help> prompt.\n"
          ],
          "name": "stdout"
        }
      ]
    },
    {
      "cell_type": "code",
      "metadata": {
        "id": "sy-0ZiEX_wzp",
        "colab_type": "code",
        "colab": {}
      },
      "source": [
        ""
      ],
      "execution_count": 0,
      "outputs": []
    },
    {
      "cell_type": "markdown",
      "metadata": {
        "id": "Y2HZghSIIP2v",
        "colab_type": "text"
      },
      "source": [
        "Adding two Numbers"
      ]
    },
    {
      "cell_type": "code",
      "metadata": {
        "id": "KKWNI35kIWZO",
        "colab_type": "code",
        "colab": {
          "base_uri": "https://localhost:8080/",
          "height": 34
        },
        "outputId": "8f5b77e1-9aeb-4544-a9df-479de9f458d9"
      },
      "source": [
        "value1=10\n",
        "value2=5\n",
        "print(value1+value2)"
      ],
      "execution_count": 12,
      "outputs": [
        {
          "output_type": "stream",
          "text": [
            "15\n"
          ],
          "name": "stdout"
        }
      ]
    },
    {
      "cell_type": "markdown",
      "metadata": {
        "id": "kQz4NC-8JAnX",
        "colab_type": "text"
      },
      "source": [
        "Adding two number using USERDEFINED"
      ]
    },
    {
      "cell_type": "code",
      "metadata": {
        "id": "dal_DiG4JGPL",
        "colab_type": "code",
        "colab": {
          "base_uri": "https://localhost:8080/",
          "height": 67
        },
        "outputId": "68ac87c5-68e7-4de0-a224-c574864a8d01"
      },
      "source": [
        "value1=input(\"enter the first value\")\n",
        "value2=input(\"enter the second value\")\n",
        "print(int(value1)+int(value2))"
      ],
      "execution_count": 15,
      "outputs": [
        {
          "output_type": "stream",
          "text": [
            "enter the first value5\n",
            "enter the second value10\n",
            "15\n"
          ],
          "name": "stdout"
        }
      ]
    }
  ]
}