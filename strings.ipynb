{
  "nbformat": 4,
  "nbformat_minor": 0,
  "metadata": {
    "colab": {
      "name": "Untitled9.ipynb",
      "provenance": [],
      "collapsed_sections": [],
      "authorship_tag": "ABX9TyMhoMG1IJWu6No6fBc4CZMK",
      "include_colab_link": true
    },
    "kernelspec": {
      "name": "python3",
      "display_name": "Python 3"
    }
  },
  "cells": [
    {
      "cell_type": "markdown",
      "metadata": {
        "id": "view-in-github",
        "colab_type": "text"
      },
      "source": [
        "<a href=\"https://colab.research.google.com/github/Jatin666/PyProject1/blob/master/strings.ipynb\" target=\"_parent\"><img src=\"https://colab.research.google.com/assets/colab-badge.svg\" alt=\"Open In Colab\"/></a>"
      ]
    },
    {
      "cell_type": "markdown",
      "metadata": {
        "id": "a2i1oB0F-jiL",
        "colab_type": "text"
      },
      "source": [
        "**STRINGS**\n",
        "\n",
        "HOW TO CREATE STRINGS \n",
        "\n",
        "FORMAT STRINGS\n",
        "\n",
        "STRINGS METHOD"
      ]
    },
    {
      "cell_type": "code",
      "metadata": {
        "id": "3Ke7p5j--xC4",
        "colab_type": "code",
        "colab": {
          "base_uri": "https://localhost:8080/",
          "height": 84
        },
        "outputId": "d28cba20-9576-470a-96fe-066fca1f3c3a"
      },
      "source": [
        "##CREATING STRINGS\n",
        "a=\"hello world\"\n",
        "b=''' hii \n",
        "i m creating a string using quotes\n",
        "like single quotes , double quotes \n",
        "and triple quotes. '''\n",
        "c=\"single quotes are used for words , double quotes are used for sentences, triple quotes are used for multiple line or paragraph\"\n",
        "print(a+b+c)\n"
      ],
      "execution_count": 4,
      "outputs": [
        {
          "output_type": "stream",
          "text": [
            "hello world hii \n",
            "i m creating a string using quotes\n",
            "like single quotes , double quotes \n",
            "and triple quotes. single quotes are used for words , double quotes are used for sentences, triple quotes are used for multiple line or paragraph\n"
          ],
          "name": "stdout"
        }
      ]
    },
    {
      "cell_type": "code",
      "metadata": {
        "id": "hVe1cOsn_q7f",
        "colab_type": "code",
        "colab": {
          "base_uri": "https://localhost:8080/",
          "height": 34
        },
        "outputId": "c508ff10-89c9-43be-a795-73a9b5916945"
      },
      "source": [
        "##example of using strings \n",
        "word =\"CODETECHNIQ\"\n",
        "letter =word[0]\n",
        "print(letter)"
      ],
      "execution_count": 2,
      "outputs": [
        {
          "output_type": "stream",
          "text": [
            "C\n"
          ],
          "name": "stdout"
        }
      ]
    },
    {
      "cell_type": "code",
      "metadata": {
        "id": "E28c7ITFAO_G",
        "colab_type": "code",
        "colab": {
          "base_uri": "https://localhost:8080/",
          "height": 34
        },
        "outputId": "da3225b4-6329-4ace-c1e6-6967a063592c"
      },
      "source": [
        "##another example of using string inde value\n",
        "word =\"CODETECHNIQ\"\n",
        "letter =word[3]\n",
        "print(letter)"
      ],
      "execution_count": 5,
      "outputs": [
        {
          "output_type": "stream",
          "text": [
            "E\n"
          ],
          "name": "stdout"
        }
      ]
    },
    {
      "cell_type": "code",
      "metadata": {
        "id": "WD4SwTbWAaig",
        "colab_type": "code",
        "colab": {
          "base_uri": "https://localhost:8080/",
          "height": 50
        },
        "outputId": "da85d068-fece-4763-ea9c-587229eb05db"
      },
      "source": [
        "##accessing first character from  string\n",
        "print(\"ACCESSING FIRST CHARACTER FROM THE STRING\")\n",
        "a=\"HELLO_WORLd\"\n",
        "print(a[0])"
      ],
      "execution_count": 6,
      "outputs": [
        {
          "output_type": "stream",
          "text": [
            "ACCESSING FIRST CHARACTER FROM THE STRING\n",
            "H\n"
          ],
          "name": "stdout"
        }
      ]
    },
    {
      "cell_type": "code",
      "metadata": {
        "id": "vOaaG-fQBI0m",
        "colab_type": "code",
        "colab": {
          "base_uri": "https://localhost:8080/",
          "height": 50
        },
        "outputId": "6cd2a8ff-d3cd-4ba2-ef0b-0102a55fe513"
      },
      "source": [
        "##accessing last character from  string\n",
        "print(\"ACCESSING LAST CHARACTER FROM THE STRING\")\n",
        "a=\"HELLO_WORLd\"\n",
        "print(a[-1])"
      ],
      "execution_count": 7,
      "outputs": [
        {
          "output_type": "stream",
          "text": [
            "ACCESSING LAST CHARACTER FROM THE STRING\n",
            "d\n"
          ],
          "name": "stdout"
        }
      ]
    },
    {
      "cell_type": "code",
      "metadata": {
        "id": "QeHzwTMzBsI8",
        "colab_type": "code",
        "colab": {
          "base_uri": "https://localhost:8080/",
          "height": 50
        },
        "outputId": "bac69c72-c50d-42c2-8b7a-b7d69ea8876c"
      },
      "source": [
        "##slicing character from a string\n",
        "print(\"SLICING  A STRING \")\n",
        "a=\"HELLO_WORLd\"\n",
        "print(a[1:4])"
      ],
      "execution_count": 8,
      "outputs": [
        {
          "output_type": "stream",
          "text": [
            "SLICING  A STRING \n",
            "ELL\n"
          ],
          "name": "stdout"
        }
      ]
    },
    {
      "cell_type": "code",
      "metadata": {
        "id": "3VNgW_mACI_K",
        "colab_type": "code",
        "colab": {
          "base_uri": "https://localhost:8080/",
          "height": 50
        },
        "outputId": "b188a4ab-2270-464c-e4ed-e3dc6e7979ad"
      },
      "source": [
        "##reverse character of an string\n",
        "print(\"reverse a string\")\n",
        "a=\"HELLO_WORLd\"\n",
        "print(a[::-1])"
      ],
      "execution_count": 11,
      "outputs": [
        {
          "output_type": "stream",
          "text": [
            "reverse a string\n",
            "dLROW_OLLEH\n"
          ],
          "name": "stdout"
        }
      ]
    },
    {
      "cell_type": "code",
      "metadata": {
        "id": "bDfhMgSGC3Yh",
        "colab_type": "code",
        "colab": {
          "base_uri": "https://localhost:8080/",
          "height": 50
        },
        "outputId": "e76ec2b0-8322-4bf0-c87b-dcf3c2694094"
      },
      "source": [
        "#slicing 6th to 2nd last character\n",
        "print(\"slicing 6th to 2nd last character\")\n",
        "a=\"HELLO_WORLd\"\n",
        "print(a[6:-2])"
      ],
      "execution_count": 12,
      "outputs": [
        {
          "output_type": "stream",
          "text": [
            "slicing 6th to 2nd last character\n",
            "WOR\n"
          ],
          "name": "stdout"
        }
      ]
    },
    {
      "cell_type": "code",
      "metadata": {
        "id": "B62c955UDSBO",
        "colab_type": "code",
        "colab": {
          "base_uri": "https://localhost:8080/",
          "height": 50
        },
        "outputId": "e681c0d0-81e3-4388-bbf9-8c73a23923c4"
      },
      "source": [
        "##concatination of two strings:\n",
        "print(\"concatination of two strings\")\n",
        "a=\"hello \"\n",
        "b=\"i m adding two strings\"\n",
        "print(a+b)"
      ],
      "execution_count": 14,
      "outputs": [
        {
          "output_type": "stream",
          "text": [
            "concatination of two strings\n",
            "hello i m adding two strings\n"
          ],
          "name": "stdout"
        }
      ]
    },
    {
      "cell_type": "code",
      "metadata": {
        "id": "gyRu5lYHDtrW",
        "colab_type": "code",
        "colab": {
          "base_uri": "https://localhost:8080/",
          "height": 50
        },
        "outputId": "fddd1a94-b64a-4493-9a59-04e9a8d90cf1"
      },
      "source": [
        "print(\"printing multiple time same string\")\n",
        "a=\"hello \"\n",
        "b=\"i m adding two strings\"\n",
        "print(a*2)"
      ],
      "execution_count": 16,
      "outputs": [
        {
          "output_type": "stream",
          "text": [
            "concatination of two strings\n",
            "hello hello \n"
          ],
          "name": "stdout"
        }
      ]
    },
    {
      "cell_type": "code",
      "metadata": {
        "id": "fkz0FiDUECI8",
        "colab_type": "code",
        "colab": {
          "base_uri": "https://localhost:8080/",
          "height": 118
        },
        "outputId": "e6b3e3d0-3ffb-498a-843d-4b16e157adfd"
      },
      "source": [
        "##using Escape Sequence\n",
        "print(\"first we use triple quotes\")\n",
        "print('''He said, \"What's there?\"''')\n",
        "print(\"now using escape sequence\")\n",
        "print('He said, \"What\\'s')\n",
        "print(\"now using escape double quotes sequence\")\n",
        "print(\"He said, \\\"What's there\\\"\")\n"
      ],
      "execution_count": 19,
      "outputs": [
        {
          "output_type": "stream",
          "text": [
            "first we use triple quotes\n",
            "He said, \"What's there?\"\n",
            "now using escape sequence\n",
            "He said, \"What's\n",
            "now using escape double quotes sequence\n",
            "He said, \"What's there\"\n"
          ],
          "name": "stdout"
        }
      ]
    },
    {
      "cell_type": "code",
      "metadata": {
        "id": "6_Ywt4rRFsYT",
        "colab_type": "code",
        "colab": {
          "base_uri": "https://localhost:8080/",
          "height": 50
        },
        "outputId": "e9e6e0c6-9c99-4368-d814-36102fa61153"
      },
      "source": [
        "##using format() method\n",
        "print(\"{},{} and {}\".format('pankaj','gary','nabieu')+\" are good friends\" )\n",
        "print(\"defalut way\")"
      ],
      "execution_count": 21,
      "outputs": [
        {
          "output_type": "stream",
          "text": [
            "pankaj,gary and nabieu are good friends\n",
            "defalut way\n"
          ],
          "name": "stdout"
        }
      ]
    },
    {
      "cell_type": "code",
      "metadata": {
        "id": "5nqCSZIgGrba",
        "colab_type": "code",
        "colab": {
          "base_uri": "https://localhost:8080/",
          "height": 34
        },
        "outputId": "4969a23d-95bf-43a2-8545-9946048cdce8"
      },
      "source": [
        "##using format method order using positional argument\n",
        "print(\"{2},{0} and {1}\".format('pankaj','gary','nabieu')+\" are good friends\" )"
      ],
      "execution_count": 22,
      "outputs": [
        {
          "output_type": "stream",
          "text": [
            "nabieu,pankaj and gary are good friends\n"
          ],
          "name": "stdout"
        }
      ]
    },
    {
      "cell_type": "code",
      "metadata": {
        "id": "fsOxYPyWHCUD",
        "colab_type": "code",
        "colab": {
          "base_uri": "https://localhost:8080/",
          "height": 67
        },
        "outputId": "8fcbb031-21b8-4b75-c42b-523b5a957faa"
      },
      "source": [
        "#order using keyword argument\n",
        "keyword_order = \"{p}, {g} and {n}\".format(p='pankaj',g='gary',n='nabeiu')\n",
        "print('\\n--- Keyword Order ---')\n",
        "print(keyword_order)\n"
      ],
      "execution_count": 23,
      "outputs": [
        {
          "output_type": "stream",
          "text": [
            "\n",
            "--- Keyword Order ---\n",
            "pankaj, gary and nabeiu\n"
          ],
          "name": "stdout"
        }
      ]
    },
    {
      "cell_type": "code",
      "metadata": {
        "id": "sMCPJ2fwHVnH",
        "colab_type": "code",
        "colab": {
          "base_uri": "https://localhost:8080/",
          "height": 151
        },
        "outputId": "d71e4e28-149e-4996-89b1-52a0d07ffb8e"
      },
      "source": [
        "##using strings method\n",
        "print(\"len\")\n",
        "word=input(\"enter the length\")\n",
        "for i in range(len(word)):\n",
        "    print(word[i])\n",
        "    print(\"character is at index\"+str(i)+'is:'+word[i])\n",
        "    "
      ],
      "execution_count": 25,
      "outputs": [
        {
          "output_type": "stream",
          "text": [
            "len\n",
            "enter the lengthhii\n",
            "h\n",
            "character is at index0is:h\n",
            "i\n",
            "character is at index1is:i\n",
            "i\n",
            "character is at index2is:i\n"
          ],
          "name": "stdout"
        }
      ]
    },
    {
      "cell_type": "code",
      "metadata": {
        "id": "456L30O8ICQf",
        "colab_type": "code",
        "colab": {
          "base_uri": "https://localhost:8080/",
          "height": 50
        },
        "outputId": "f16c55bd-888d-4370-ed19-80b60c9b00bd"
      },
      "source": [
        "##using lower()\n",
        "print(\"lower\")\n",
        "word=\"DIKSHA\"\n",
        "print(word.lower())"
      ],
      "execution_count": 29,
      "outputs": [
        {
          "output_type": "stream",
          "text": [
            "lower\n",
            "diksha\n"
          ],
          "name": "stdout"
        }
      ]
    },
    {
      "cell_type": "code",
      "metadata": {
        "id": "GzXcOx9CSqSG",
        "colab_type": "code",
        "colab": {
          "base_uri": "https://localhost:8080/",
          "height": 50
        },
        "outputId": "3d07718a-954a-440c-fd57-d32141a35d6c"
      },
      "source": [
        "##using upper()\n",
        "print(\"upper\")\n",
        "word=\"diksha\"\n",
        "print(word.upper())"
      ],
      "execution_count": 30,
      "outputs": [
        {
          "output_type": "stream",
          "text": [
            "upper\n",
            "DIKSHA\n"
          ],
          "name": "stdout"
        }
      ]
    },
    {
      "cell_type": "code",
      "metadata": {
        "id": "R2NtLkrBTSYV",
        "colab_type": "code",
        "colab": {
          "base_uri": "https://localhost:8080/",
          "height": 50
        },
        "outputId": "f2eb82b7-7baf-4704-8b5c-bb70faf72afd"
      },
      "source": [
        "##using strip()\n",
        "print(\"using strip()\")\n",
        "word=\"  HII  \"\n",
        "print(word.strip())"
      ],
      "execution_count": 31,
      "outputs": [
        {
          "output_type": "stream",
          "text": [
            "using strip()\n",
            "HII\n"
          ],
          "name": "stdout"
        }
      ]
    },
    {
      "cell_type": "code",
      "metadata": {
        "id": "MhaXCVht-fJG",
        "colab_type": "code",
        "colab": {
          "base_uri": "https://localhost:8080/",
          "height": 50
        },
        "outputId": "1b0e6c21-a8d0-40c8-ae03-292eb30bc8b6"
      },
      "source": [
        "##using isalpha()\n",
        "print(\"using isalpha()\")\n",
        "word=\"abcdefghij\"\n",
        "print(word.isalpha())"
      ],
      "execution_count": 32,
      "outputs": [
        {
          "output_type": "stream",
          "text": [
            "using isalpha()\n",
            "True\n"
          ],
          "name": "stdout"
        }
      ]
    },
    {
      "cell_type": "code",
      "metadata": {
        "id": "Ok0lmHqIU5s8",
        "colab_type": "code",
        "colab": {
          "base_uri": "https://localhost:8080/",
          "height": 50
        },
        "outputId": "c68d66dd-82fa-4f9f-d28a-5bb9930455ab"
      },
      "source": [
        "##using isdigit()\n",
        "print(\"using isdigit()\")\n",
        "word=\"abcdefghij\"\n",
        "print(word.isdigit())"
      ],
      "execution_count": 33,
      "outputs": [
        {
          "output_type": "stream",
          "text": [
            "using isdigit()\n",
            "False\n"
          ],
          "name": "stdout"
        }
      ]
    },
    {
      "cell_type": "code",
      "metadata": {
        "id": "Gpc0mLOyVWR9",
        "colab_type": "code",
        "colab": {
          "base_uri": "https://localhost:8080/",
          "height": 67
        },
        "outputId": "6786eb46-5765-4e08-f440-eee987b73620"
      },
      "source": [
        "##using startswith()\n",
        "print(\"using startswith()\")\n",
        "a=input(\"enter the number: \")\n",
        "a.startswith(\"+91\")"
      ],
      "execution_count": 39,
      "outputs": [
        {
          "output_type": "stream",
          "text": [
            "using startswith()\n",
            "enter the number: +918872103661\n"
          ],
          "name": "stdout"
        },
        {
          "output_type": "execute_result",
          "data": {
            "text/plain": [
              "True"
            ]
          },
          "metadata": {
            "tags": []
          },
          "execution_count": 39
        }
      ]
    },
    {
      "cell_type": "code",
      "metadata": {
        "id": "y7cHTRt1Wdm5",
        "colab_type": "code",
        "colab": {
          "base_uri": "https://localhost:8080/",
          "height": 67
        },
        "outputId": "6e07f92f-a935-4a2d-816b-5703a9a7aff3"
      },
      "source": [
        "##using endswith()\n",
        "print(\"using endswith()\")\n",
        "a=input(\"enter the number: \")\n",
        "a.endswith(\"00\")"
      ],
      "execution_count": 40,
      "outputs": [
        {
          "output_type": "stream",
          "text": [
            "using endswith()\n",
            "enter the number: 88712216203\n"
          ],
          "name": "stdout"
        },
        {
          "output_type": "execute_result",
          "data": {
            "text/plain": [
              "False"
            ]
          },
          "metadata": {
            "tags": []
          },
          "execution_count": 40
        }
      ]
    },
    {
      "cell_type": "code",
      "metadata": {
        "id": "ASTlKqGyXhh0",
        "colab_type": "code",
        "colab": {
          "base_uri": "https://localhost:8080/",
          "height": 50
        },
        "outputId": "fa57d0cc-301d-4b03-84f9-17460c7c0572"
      },
      "source": [
        "##using find()\n",
        "print(\"find()\")\n",
        "a=\"abcdefghijkl\"\n",
        "s=a.find(\"c\")\n",
        "print(s)"
      ],
      "execution_count": 45,
      "outputs": [
        {
          "output_type": "stream",
          "text": [
            "find()\n",
            "2\n"
          ],
          "name": "stdout"
        }
      ]
    },
    {
      "cell_type": "code",
      "metadata": {
        "id": "C9N0XeUBYHWL",
        "colab_type": "code",
        "colab": {
          "base_uri": "https://localhost:8080/",
          "height": 50
        },
        "outputId": "7b002268-4717-4c4f-f664-7fa19277f3c2"
      },
      "source": [
        "##using replace()\n",
        "print(\"replace()\")\n",
        "a=\"abcdefghijkl\"\n",
        "s=a.replace(\"d\",\"m\")\n",
        "print(s)"
      ],
      "execution_count": 49,
      "outputs": [
        {
          "output_type": "stream",
          "text": [
            "replace()\n",
            "abcmefghijkl\n"
          ],
          "name": "stdout"
        }
      ]
    },
    {
      "cell_type": "code",
      "metadata": {
        "id": "Xe6czqe7Ypk3",
        "colab_type": "code",
        "colab": {
          "base_uri": "https://localhost:8080/",
          "height": 50
        },
        "outputId": "49071661-3009-4523-9b7a-cdd5e354e985"
      },
      "source": [
        "##using split()\n",
        "print(\"split()\")\n",
        "a=\"abcdefghijkl\"\n",
        "s=a.split(\"d\")\n",
        "print(s)"
      ],
      "execution_count": 51,
      "outputs": [
        {
          "output_type": "stream",
          "text": [
            "split()\n",
            "['abc', 'efghijkl']\n"
          ],
          "name": "stdout"
        }
      ]
    },
    {
      "cell_type": "code",
      "metadata": {
        "id": "7IU7APcmZOx7",
        "colab_type": "code",
        "colab": {
          "base_uri": "https://localhost:8080/",
          "height": 34
        },
        "outputId": "6396bfde-b1fb-4b29-b715-9ce9aed6f675"
      },
      "source": [
        "##using join()\n",
        "myTuple = (\"John\", \"Peter\", \"Vicky\")\n",
        "\n",
        "x = \"#\".join(myTuple)\n",
        "\n",
        "print(x)"
      ],
      "execution_count": 63,
      "outputs": [
        {
          "output_type": "stream",
          "text": [
            "John#Peter#Vicky\n"
          ],
          "name": "stdout"
        }
      ]
    },
    {
      "cell_type": "code",
      "metadata": {
        "id": "H47jZHj4YsqI",
        "colab_type": "code",
        "colab": {}
      },
      "source": [
        ""
      ],
      "execution_count": 0,
      "outputs": []
    }
  ]
}