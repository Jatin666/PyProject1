{
  "nbformat": 4,
  "nbformat_minor": 0,
  "metadata": {
    "colab": {
      "name": "Untitled6.ipynb",
      "provenance": [],
      "collapsed_sections": [],
      "authorship_tag": "ABX9TyMUf/vLKaQhl3gXcgDRyyki",
      "include_colab_link": true
    },
    "kernelspec": {
      "name": "python3",
      "display_name": "Python 3"
    }
  },
  "cells": [
    {
      "cell_type": "markdown",
      "metadata": {
        "id": "view-in-github",
        "colab_type": "text"
      },
      "source": [
        "<a href=\"https://colab.research.google.com/github/Jatin666/PyProject1/blob/master/py%20day%206.ipynb\" target=\"_parent\"><img src=\"https://colab.research.google.com/assets/colab-badge.svg\" alt=\"Open In Colab\"/></a>"
      ]
    },
    {
      "cell_type": "markdown",
      "metadata": {
        "id": "HZq-nzILwIcr",
        "colab_type": "text"
      },
      "source": [
        "**first**"
      ]
    },
    {
      "cell_type": "code",
      "metadata": {
        "id": "oyFb2YmvuTjl",
        "colab_type": "code",
        "outputId": "536df888-636a-492d-c58b-c040342fbc0c",
        "colab": {
          "base_uri": "https://localhost:8080/",
          "height": 84
        }
      },
      "source": [
        "##PRINTING A PATTERN WITH * USING PRINT COMMAND\n",
        "print('''         ********************\n",
        "         ********************\n",
        "         ********************\n",
        "         ********************''')"
      ],
      "execution_count": 0,
      "outputs": [
        {
          "output_type": "stream",
          "text": [
            "         ********************\n",
            "         ********************\n",
            "         ********************\n",
            "         ********************\n"
          ],
          "name": "stdout"
        }
      ]
    },
    {
      "cell_type": "markdown",
      "metadata": {
        "id": "VHFzdcAewLgn",
        "colab_type": "text"
      },
      "source": [
        "**second**"
      ]
    },
    {
      "cell_type": "code",
      "metadata": {
        "id": "yVAiVYxLwQ6_",
        "colab_type": "code",
        "outputId": "255f9860-7b68-4554-e3a7-92a402b2ca75",
        "colab": {
          "base_uri": "https://localhost:8080/",
          "height": 151
        }
      },
      "source": [
        "##PRINTING A PATTERN USING PRINT COMMAND\n",
        "print('''\n",
        "***********\n",
        "\n",
        "*         *\n",
        "\n",
        "*         *\n",
        "\n",
        "***********''')"
      ],
      "execution_count": 0,
      "outputs": [
        {
          "output_type": "stream",
          "text": [
            "\n",
            "***********\n",
            "\n",
            "*         *\n",
            "\n",
            "*         *\n",
            "\n",
            "***********\n"
          ],
          "name": "stdout"
        }
      ]
    },
    {
      "cell_type": "markdown",
      "metadata": {
        "id": "QEuDAwxWw0nv",
        "colab_type": "text"
      },
      "source": [
        "**Third**"
      ]
    },
    {
      "cell_type": "code",
      "metadata": {
        "id": "nkCLCii9x-43",
        "colab_type": "code",
        "colab": {}
      },
      "source": [
        "##PRINTING A TRAINGLE USING PRINT COMMAND\n",
        "print('''\n",
        "*\n",
        "**\n",
        "***\n",
        "****\n",
        "*****''')"
      ],
      "execution_count": 0,
      "outputs": []
    },
    {
      "cell_type": "markdown",
      "metadata": {
        "id": "-Tkb7ZUZzELh",
        "colab_type": "text"
      },
      "source": [
        "**ASK THE USER TO  INPUT THE NAME PHONE NUMBER AND EMAIL ID.ONCE DETAILS ARE TAKEN INSERT THE DETAIL IN THE LIST AND PRINT THE LIST**"
      ]
    },
    {
      "cell_type": "code",
      "metadata": {
        "id": "oDjBQfmXzZ5M",
        "colab_type": "code",
        "outputId": "8cac3d8d-4450-496b-b706-c4f1172e0de1",
        "colab": {
          "base_uri": "https://localhost:8080/",
          "height": 118
        }
      },
      "source": [
        "a=input(\"ENTER YOUR NAME : \")\n",
        "b=int(input(\"ENTER YOUR PHONE_NUMBER : \"))\n",
        "C=input(\"ENTER YOUR EMAIL ID : \")\n",
        "LIST=['a','b','c']\n",
        "print(a)\n",
        "print(b)\n",
        "print(C)"
      ],
      "execution_count": 0,
      "outputs": [
        {
          "output_type": "stream",
          "text": [
            "ENTER YOUR NAME : Jatin\n",
            "ENTER YOUR PHONE_NUMBER : 8872103661\n",
            "ENTER YOUR EMAIL ID : verma.jatin661@gmail.com\n",
            "Jatin\n",
            "8872103661\n",
            "verma.jatin661@gmail.com\n"
          ],
          "name": "stdout"
        }
      ]
    },
    {
      "cell_type": "markdown",
      "metadata": {
        "id": "nusgylp53crq",
        "colab_type": "text"
      },
      "source": [
        "**write a program that ask the user to enter the string and create a new string that double each character of the original string. for example . if the user enter HELLO the answer will be HHEELLLLOO.**"
      ]
    },
    {
      "cell_type": "code",
      "metadata": {
        "id": "W85J6mR73_w9",
        "colab_type": "code",
        "outputId": "9b85673c-97b6-475a-bafe-434c9b096194",
        "colab": {
          "base_uri": "https://localhost:8080/",
          "height": 67
        }
      },
      "source": [
        "print(\"hii this code is used to double your word : \")\n",
        "a=input(\"ENTER A STRING : \")\n",
        "print(a[0]*2)"
      ],
      "execution_count": 21,
      "outputs": [
        {
          "output_type": "stream",
          "text": [
            "hii this code is used to double your word : \n",
            "ENTER A STRING : h\n",
            "hh\n"
          ],
          "name": "stdout"
        }
      ]
    }
  ]
}