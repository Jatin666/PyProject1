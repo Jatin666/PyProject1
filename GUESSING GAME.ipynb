{
  "nbformat": 4,
  "nbformat_minor": 0,
  "metadata": {
    "colab": {
      "name": "Untitled2.ipynb",
      "provenance": [],
      "authorship_tag": "ABX9TyOYXVDUq5GcKn0H4F2s2qey",
      "include_colab_link": true
    },
    "kernelspec": {
      "name": "python2",
      "display_name": "Python 2"
    }
  },
  "cells": [
    {
      "cell_type": "markdown",
      "metadata": {
        "id": "view-in-github",
        "colab_type": "text"
      },
      "source": [
        "<a href=\"https://colab.research.google.com/github/Jatin666/PyProject1/blob/master/GUESSING%20GAME.ipynb\" target=\"_parent\"><img src=\"https://colab.research.google.com/assets/colab-badge.svg\" alt=\"Open In Colab\"/></a>"
      ]
    },
    {
      "cell_type": "markdown",
      "metadata": {
        "id": "hJ750D3L0Pr5",
        "colab_type": "text"
      },
      "source": [
        "GUESSING GAME"
      ]
    },
    {
      "cell_type": "code",
      "metadata": {
        "id": "PeYe3eJ30NY6",
        "colab_type": "code",
        "colab": {
          "base_uri": "https://localhost:8080/",
          "height": 269
        },
        "outputId": "1436e757-75ac-41ac-f7dd-2380ef95564f"
      },
      "source": [
        "import random\n",
        "print(\"Number game\")\n",
        "start=0\n",
        "end=20\n",
        "computernumber=random.randint(0,20)\n",
        "while(True):\n",
        "    usernumber= int(input(\"enter the number:\"))\n",
        "    if usernumber == computernumber:\n",
        "        print(\"your number is correct\")\n",
        "        break\n",
        "    elif usernumber > computernumber:\n",
        "         end=computernumber\n",
        "         midpoint=(start+end/2)\n",
        "         print(midpoint)\n",
        "         if(midpoint>usernumber):\n",
        "            print(\"your number is high\")\n",
        "         else:\n",
        "             print(\"your number is too high\")\n",
        "    elif usernumber<computernumber:\n",
        "         end=usernumber\n",
        "         midpoint=(start+end/2)\n",
        "         print(midpoint)\n",
        "         if(midpoint<computernumber):\n",
        "            print(\"your number is low\")\n",
        "         else:\n",
        "              print(\"your number is too low\")\n",
        "\n",
        "    else:\n",
        "                print(\"invalid\")\n",
        "        \n"
      ],
      "execution_count": 1,
      "outputs": [
        {
          "output_type": "stream",
          "text": [
            "Number game\n",
            "enter the number:8\n",
            "3\n",
            "your number is too high\n",
            "enter the number:4\n",
            "2\n",
            "your number is low\n",
            "enter the number:3\n",
            "1\n",
            "your number is low\n",
            "enter the number:5\n",
            "2\n",
            "your number is low\n",
            "enter the number:7\n",
            "your number is correct\n"
          ],
          "name": "stdout"
        }
      ]
    }
  ]
}