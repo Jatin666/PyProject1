{
  "nbformat": 4,
  "nbformat_minor": 0,
  "metadata": {
    "colab": {
      "name": "Untitled5.ipynb",
      "provenance": [],
      "authorship_tag": "ABX9TyO/zhc3ym//COGa8VENIIqy",
      "include_colab_link": true
    },
    "kernelspec": {
      "name": "python3",
      "display_name": "Python 3"
    }
  },
  "cells": [
    {
      "cell_type": "markdown",
      "metadata": {
        "id": "view-in-github",
        "colab_type": "text"
      },
      "source": [
        "<a href=\"https://colab.research.google.com/github/Jatin666/PyProject1/blob/master/PY%20ROCK%20PAPER%20SCISSOR%20GAME.ipynb\" target=\"_parent\"><img src=\"https://colab.research.google.com/assets/colab-badge.svg\" alt=\"Open In Colab\"/></a>"
      ]
    },
    {
      "cell_type": "code",
      "metadata": {
        "id": "W6oHzqb3DRpp",
        "colab_type": "code",
        "colab": {}
      },
      "source": [
        "import random\n",
        "a = [\"Rock\", \"Paper\", \"Scissors\"]\n",
        "computer = random.choice(a)\n",
        "player = True\n",
        "while player == True:\n",
        "    player = input('''Type only one\n",
        "                   Rock\n",
        "                   Paper\n",
        "                   Scissors ''')\n",
        "    if player == computer:\n",
        "        print(\"Tie\")\n",
        "    elif player == \"Rock\":\n",
        "        if computer == \"Paper\":\n",
        "            print(\"You lose.. computer answer \"+computer)\n",
        "            print(\"computer \")\n",
        "        else:\n",
        "            print(\"You win.. computer answer \"+computer)\n",
        "    elif player == \"Paper\":\n",
        "        if computer == \"Scissors\":\n",
        "            print(\"You lose.. computer answer \"+computer)\n",
        "            print(\"computer\")\n",
        "        else:\n",
        "            print(\"You win.. computer answer \"+computer)\n",
        "    elif player == \"Scissors\":\n",
        "        if computer == \"Rock\":\n",
        "            print(\"You lose.. computer answer \"+computer)\n",
        "        else:\n",
        "            print(\"You win..computer answer\"+computer)\n"
      ],
      "execution_count": 0,
      "outputs": []
    }
  ]
}