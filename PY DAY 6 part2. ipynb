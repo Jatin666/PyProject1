{
  "nbformat": 4,
  "nbformat_minor": 0,
  "metadata": {
    "colab": {
      "name": "Untitled7.ipynb",
      "provenance": [],
      "collapsed_sections": [],
      "authorship_tag": "ABX9TyMdQzoSUPZMR0J3FaDojHu/",
      "include_colab_link": true
    },
    "kernelspec": {
      "name": "python2",
      "display_name": "Python 2"
    }
  },
  "cells": [
    {
      "cell_type": "markdown",
      "metadata": {
        "id": "view-in-github",
        "colab_type": "text"
      },
      "source": [
        "<a href=\"https://colab.research.google.com/github/Jatin666/PyProject1/blob/master/PY%20DAY%206%20part2.%20ipynb\" target=\"_parent\"><img src=\"https://colab.research.google.com/assets/colab-badge.svg\" alt=\"Open In Colab\"/></a>"
      ]
    },
    {
      "cell_type": "code",
      "metadata": {
        "id": "BMkM9ISPU-8Q",
        "colab_type": "code",
        "colab": {}
      },
      "source": [
        ""
      ],
      "execution_count": 0,
      "outputs": []
    },
    {
      "cell_type": "markdown",
      "metadata": {
        "id": "0N__S1UeVGx-",
        "colab_type": "text"
      },
      "source": [
        "**EXECUTE THE COMMAND**\n",
        "PRINT \"DOUBLE QUOTES\"\n",
        "\n",
        "PRINT \"SINGLE QUOTES\"\n",
        "\n",
        "PRINT '''\n",
        "MULTILINE'''\n",
        "\n",
        "STRING1='HELLO WORLD'\n",
        "\n",
        "STRING2= \"WE'RE HERE#1!\"\n",
        "\n",
        "STRING3='1234'\n",
        "\n",
        "STRING4=\"I SAID, \"PULL IT OVER BY THE LLAMMA\"\n",
        "\n",
        "NUMBER = 12\n",
        "\n",
        "FLOAT = 3.14\n"
      ]
    },
    {
      "cell_type": "code",
      "metadata": {
        "id": "-BWqgqbYWHuB",
        "colab_type": "code",
        "colab": {
          "base_uri": "https://localhost:8080/",
          "height": 34
        },
        "outputId": "9f4a95c4-ba1d-429c-cc9a-0b1f3af6caf0"
      },
      "source": [
        "##PRINTING WITH DOUBLE QUOTES\n",
        "print (\"DOUBLE QUOTES\")"
      ],
      "execution_count": 1,
      "outputs": [
        {
          "output_type": "stream",
          "text": [
            "DOUBLE QUOTES\n"
          ],
          "name": "stdout"
        }
      ]
    },
    {
      "cell_type": "code",
      "metadata": {
        "id": "JBwIY5SCWS02",
        "colab_type": "code",
        "colab": {
          "base_uri": "https://localhost:8080/",
          "height": 34
        },
        "outputId": "d1573c46-cac2-4dba-9edf-4c7b377fa563"
      },
      "source": [
        "##printing with single quotes\n",
        "print('single quotes')\n"
      ],
      "execution_count": 2,
      "outputs": [
        {
          "output_type": "stream",
          "text": [
            "single quotes\n"
          ],
          "name": "stdout"
        }
      ]
    },
    {
      "cell_type": "code",
      "metadata": {
        "id": "YE5BEtmjWaAf",
        "colab_type": "code",
        "colab": {
          "base_uri": "https://localhost:8080/",
          "height": 84
        },
        "outputId": "ea989735-52d6-4406-ca47-da0620748506"
      },
      "source": [
        "##printing with triple quotes in multiple line\n",
        "print('''\n",
        "hii\n",
        "i m\n",
        "using multiline''')"
      ],
      "execution_count": 3,
      "outputs": [
        {
          "output_type": "stream",
          "text": [
            "\n",
            "hii\n",
            "i m\n",
            "using multiline\n"
          ],
          "name": "stdout"
        }
      ]
    },
    {
      "cell_type": "code",
      "metadata": {
        "id": "45bDPkCPWp05",
        "colab_type": "code",
        "colab": {
          "base_uri": "https://localhost:8080/",
          "height": 34
        },
        "outputId": "100b617e-75b2-4dd6-d0bc-305f5719ab55"
      },
      "source": [
        "##printing a string with single quotes\n",
        "string1='HELLO WORLD'\n",
        "print(string1)"
      ],
      "execution_count": 4,
      "outputs": [
        {
          "output_type": "stream",
          "text": [
            "HELLO WORLD\n"
          ],
          "name": "stdout"
        }
      ]
    },
    {
      "cell_type": "code",
      "metadata": {
        "id": "BtV9Z7YIW1fP",
        "colab_type": "code",
        "colab": {
          "base_uri": "https://localhost:8080/",
          "height": 34
        },
        "outputId": "85661a78-25ad-44be-9f7c-0d1e81814014"
      },
      "source": [
        "##printing a string containing numbers\n",
        "string2='1234'\n",
        "print(string2)"
      ],
      "execution_count": 5,
      "outputs": [
        {
          "output_type": "stream",
          "text": [
            "1234\n"
          ],
          "name": "stdout"
        }
      ]
    },
    {
      "cell_type": "code",
      "metadata": {
        "id": "MDlUg77_XGRe",
        "colab_type": "code",
        "colab": {
          "base_uri": "https://localhost:8080/",
          "height": 34
        },
        "outputId": "cf0752c2-3dd0-4c51-e27e-ec0a6111aba9"
      },
      "source": [
        "##printing a string containing \"WE'RE HERE#1!\n",
        "string3=\"WE'RE HERE#1!\"\n",
        "print(string3)"
      ],
      "execution_count": 6,
      "outputs": [
        {
          "output_type": "stream",
          "text": [
            "WE'RE HERE#1!\n"
          ],
          "name": "stdout"
        }
      ]
    },
    {
      "cell_type": "code",
      "metadata": {
        "id": "naYmDVSXXfZV",
        "colab_type": "code",
        "colab": {
          "base_uri": "https://localhost:8080/",
          "height": 34
        },
        "outputId": "35a22ca0-0b89-4f06-d75f-d9fe86547f4f"
      },
      "source": [
        "##printing a string containing 'I SAID, \"PULL IT OVER BY THE LLAMMA\"'\n",
        "string4=''' 'I SAID, \"PULL IT OVER BY THE LLAMMA\"' '''\n",
        "print(string4)"
      ],
      "execution_count": 7,
      "outputs": [
        {
          "output_type": "stream",
          "text": [
            " 'I SAID, \"PULL IT OVER BY THE LLAMMA\"' \n"
          ],
          "name": "stdout"
        }
      ]
    },
    {
      "cell_type": "code",
      "metadata": {
        "id": "scRKL85yX39H",
        "colab_type": "code",
        "colab": {
          "base_uri": "https://localhost:8080/",
          "height": 34
        },
        "outputId": "92d9b813-6b0b-4c18-f3f4-a8b391cea0c7"
      },
      "source": [
        "##printing a number12\n",
        "number= 12\n",
        "print(number)"
      ],
      "execution_count": 8,
      "outputs": [
        {
          "output_type": "stream",
          "text": [
            "12\n"
          ],
          "name": "stdout"
        }
      ]
    },
    {
      "cell_type": "code",
      "metadata": {
        "id": "oid4PlSSYEze",
        "colab_type": "code",
        "colab": {
          "base_uri": "https://localhost:8080/",
          "height": 34
        },
        "outputId": "b73702ed-0176-494c-e5c9-ca977608790f"
      },
      "source": [
        "##printing a float 3.14\n",
        "float= 3.14\n",
        "print(float)"
      ],
      "execution_count": 9,
      "outputs": [
        {
          "output_type": "stream",
          "text": [
            "3.14\n"
          ],
          "name": "stdout"
        }
      ]
    },
    {
      "cell_type": "code",
      "metadata": {
        "id": "a_Mtug9yYhEk",
        "colab_type": "code",
        "colab": {}
      },
      "source": [
        ""
      ],
      "execution_count": 0,
      "outputs": []
    },
    {
      "cell_type": "markdown",
      "metadata": {
        "id": "rN4GVNVSYhir",
        "colab_type": "text"
      },
      "source": [
        "**USING TYPE() TO CHECK THE DATATYPE OF THE CREATED VARIABLE**\n"
      ]
    },
    {
      "cell_type": "code",
      "metadata": {
        "id": "0DAhyQ6gZA7L",
        "colab_type": "code",
        "colab": {
          "base_uri": "https://localhost:8080/",
          "height": 195
        },
        "outputId": "fd09d13f-95a5-4e67-fdb0-3938423560b8"
      },
      "source": [
        "age = 3.14\n",
        "print( type( age ))\n",
        " "
      ],
      "execution_count": 36,
      "outputs": [
        {
          "output_type": "error",
          "ename": "TypeError",
          "evalue": "ignored",
          "traceback": [
            "\u001b[0;31m\u001b[0m",
            "\u001b[0;31mTypeError\u001b[0mTraceback (most recent call last)",
            "\u001b[0;32m<ipython-input-36-b3f57f64654c>\u001b[0m in \u001b[0;36m<module>\u001b[0;34m()\u001b[0m\n\u001b[1;32m      1\u001b[0m \u001b[0mage\u001b[0m \u001b[0;34m=\u001b[0m \u001b[0;36m3.14\u001b[0m\u001b[0;34m\u001b[0m\u001b[0m\n\u001b[0;32m----> 2\u001b[0;31m \u001b[0;32mprint\u001b[0m\u001b[0;34m(\u001b[0m \u001b[0mtype\u001b[0m\u001b[0;34m(\u001b[0m \u001b[0mage\u001b[0m \u001b[0;34m)\u001b[0m\u001b[0;34m)\u001b[0m\u001b[0;34m\u001b[0m\u001b[0m\n\u001b[0m\u001b[1;32m      3\u001b[0m \u001b[0;34m\u001b[0m\u001b[0m\n",
            "\u001b[0;31mTypeError\u001b[0m: 'int' object is not callable"
          ]
        }
      ]
    },
    {
      "cell_type": "code",
      "metadata": {
        "id": "W4k1lXYyc8X6",
        "colab_type": "code",
        "colab": {}
      },
      "source": [
        ""
      ],
      "execution_count": 0,
      "outputs": []
    },
    {
      "cell_type": "markdown",
      "metadata": {
        "id": "7NlvBOKTc8vh",
        "colab_type": "text"
      },
      "source": [
        "**EXECUTE THE FOLLOWING\n",
        "\n",
        "MOVIES=['AVENGER','SPIDERMAN','SUPERMAN']\n",
        "\n",
        "MOVIES=('AVENGER','SPIDERMAN','SUPERMAN')**"
      ]
    },
    {
      "cell_type": "code",
      "metadata": {
        "id": "vLf5xAD2dUj7",
        "colab_type": "code",
        "colab": {
          "base_uri": "https://localhost:8080/",
          "height": 50
        },
        "outputId": "7a8f4b7e-679c-4933-812b-dfed15ae5d86"
      },
      "source": [
        "##PRINTING THE CODE USING LIST AND TUPLE\n",
        "movies_list=['AVENGER','SPIDERMAN','SUPERMAN']\n",
        "movies_tuple=('AVENGER','SPIDERMAN','SUPERMAN')\n",
        "print(movies_list)\n",
        "print(movies_tuple)"
      ],
      "execution_count": 37,
      "outputs": [
        {
          "output_type": "stream",
          "text": [
            "['AVENGER', 'SPIDERMAN', 'SUPERMAN']\n",
            "('AVENGER', 'SPIDERMAN', 'SUPERMAN')\n"
          ],
          "name": "stdout"
        }
      ]
    }
  ]
}