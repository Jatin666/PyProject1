{
  "nbformat": 4,
  "nbformat_minor": 0,
  "metadata": {
    "colab": {
      "name": "Untitled16.ipynb",
      "provenance": [],
      "authorship_tag": "ABX9TyNQjr2UqF28n92GoeNnbmzS",
      "include_colab_link": true
    },
    "kernelspec": {
      "name": "python3",
      "display_name": "Python 3"
    }
  },
  "cells": [
    {
      "cell_type": "markdown",
      "metadata": {
        "id": "view-in-github",
        "colab_type": "text"
      },
      "source": [
        "<a href=\"https://colab.research.google.com/github/Jatin666/PyProject1/blob/master/day%2014%20cad14.ipynb\" target=\"_parent\"><img src=\"https://colab.research.google.com/assets/colab-badge.svg\" alt=\"Open In Colab\"/></a>"
      ]
    },
    {
      "cell_type": "code",
      "metadata": {
        "id": "UROOskSBNLhI",
        "colab_type": "code",
        "colab": {
          "base_uri": "https://localhost:8080/",
          "height": 134
        },
        "outputId": "7a88243f-3bde-4589-a096-8ff6afce5358"
      },
      "source": [
        " ##Write a Python program to create a tuple with different data types.\n",
        " print(\"creating a tuple with strings\")\n",
        " string=('Diksha','Jatin','Pankaj','nabieu')\n",
        " print(\"creating a tuple with integer\")\n",
        " string2=(1,2,3,4)\n",
        " print(\"creating a string with float\\n\")\n",
        " string3=(3.14,2.57,254.20,12.3)\n",
        " print(string)\n",
        " print(string2)\n",
        " print(string3)"
      ],
      "execution_count": 4,
      "outputs": [
        {
          "output_type": "stream",
          "text": [
            "creating a tuple with strings\n",
            "creating a tuple with integer\n",
            "creating a string with float\n",
            "\n",
            "('Diksha', 'Jatin', 'Pankaj', 'nabieu')\n",
            "(1, 2, 3, 4)\n",
            "(3.14, 2.57, 254.2, 12.3)\n"
          ],
          "name": "stdout"
        }
      ]
    },
    {
      "cell_type": "code",
      "metadata": {
        "id": "_OiSYq63RdTL",
        "colab_type": "code",
        "colab": {
          "base_uri": "https://localhost:8080/",
          "height": 34
        },
        "outputId": "bf958a98-2c1a-4afe-d7ce-703ddbb06207"
      },
      "source": [
        "##Write a Python program to add an item in a tuple.\n",
        "string=('Diksha','Jatin','Pankaj','nabieu')\n",
        "a='hitesh'\n",
        "b=string + (a,)\n",
        "print(b)"
      ],
      "execution_count": 13,
      "outputs": [
        {
          "output_type": "stream",
          "text": [
            "('Diksha', 'Jatin', 'Pankaj', 'nabieu', 'hitesh')\n"
          ],
          "name": "stdout"
        }
      ]
    },
    {
      "cell_type": "code",
      "metadata": {
        "id": "Gu2Os8J0Tfd-",
        "colab_type": "code",
        "colab": {
          "base_uri": "https://localhost:8080/",
          "height": 34
        },
        "outputId": "1d56cc9d-23ed-4a70-acf7-dac02b30d3ed"
      },
      "source": [
        "##Write a Python program to convert a tuple to a string.\n",
        "tuple=(1,'i','i')\n",
        "str=(tuple)\n",
        "print(str)\n"
      ],
      "execution_count": 22,
      "outputs": [
        {
          "output_type": "stream",
          "text": [
            "(1, 'i', 'i')\n"
          ],
          "name": "stdout"
        }
      ]
    },
    {
      "cell_type": "code",
      "metadata": {
        "id": "eR2fhwJ7U_-y",
        "colab_type": "code",
        "colab": {
          "base_uri": "https://localhost:8080/",
          "height": 34
        },
        "outputId": "273588a6-6928-448c-d438-7990ce230d54"
      },
      "source": [
        " ##Write a Python program to find the length of a tuple\n",
        " string=('Diksha','Jatin','Pankaj','nabieu')\n",
        " print(len(string))"
      ],
      "execution_count": 23,
      "outputs": [
        {
          "output_type": "stream",
          "text": [
            "4\n"
          ],
          "name": "stdout"
        }
      ]
    },
    {
      "cell_type": "code",
      "metadata": {
        "id": "lv20IuQvVJkN",
        "colab_type": "code",
        "colab": {
          "base_uri": "https://localhost:8080/",
          "height": 34
        },
        "outputId": "735e0f13-b15c-452e-a131-b4be0fbfdbe1"
      },
      "source": [
        "## Write a Python program to reverse a tuple\n",
        " string=('Diksha','Jatin','Pankaj','nabieu')\n",
        "print(string[::-1])"
      ],
      "execution_count": 25,
      "outputs": [
        {
          "output_type": "stream",
          "text": [
            "('nabieu', 'Pankaj', 'Jatin', 'Diksha')\n"
          ],
          "name": "stdout"
        }
      ]
    },
    {
      "cell_type": "code",
      "metadata": {
        "id": "KhXif-U_VckZ",
        "colab_type": "code",
        "colab": {
          "base_uri": "https://localhost:8080/",
          "height": 232
        },
        "outputId": "def6d26c-ff0c-4514-b2fd-6b0fb20a6418"
      },
      "source": [
        "##Create a tuple of 50 random numbers from 1-25. Ask the user to input any no. from 1-25 and check the count of that particular number in your tuple\n",
        "import random\n",
        "start=0\n",
        "end=\" \"\n",
        "for i in range(50):\n",
        "  empty=()\n",
        "  computer=random.randint(1,25)\n",
        "  empty=(computer,)\n",
        "  print(empty,end=\" \")\n",
        "a=input(\"enter any number from 1-25\")\n",
        "count = empty.count(a)\n",
        "print(\"the count is :\"+str(count))\n"
      ],
      "execution_count": 39,
      "outputs": [
        {
          "output_type": "stream",
          "text": [
            "(13,) (22,) (12,) (6,) (25,) (23,) (11,) (4,) (7,) (5,) (20,) (16,) (22,) (21,) (17,) (16,) (7,) (4,) (17,) (3,) (15,) (8,) (6,) (18,) (9,) (14,) (11,) (13,) (3,) (22,) (19,) (5,) (7,) (20,) (21,) (19,) (21,) (1,) (18,) (10,) (8,) (17,) (4,) (4,) (22,) (22,) (14,) (5,) (20,) (18,) enter any number from 1-255\n"
          ],
          "name": "stdout"
        },
        {
          "output_type": "error",
          "ename": "TypeError",
          "evalue": "ignored",
          "traceback": [
            "\u001b[0;31m---------------------------------------------------------------------------\u001b[0m",
            "\u001b[0;31mTypeError\u001b[0m                                 Traceback (most recent call last)",
            "\u001b[0;32m<ipython-input-39-d9b48aa37b91>\u001b[0m in \u001b[0;36m<module>\u001b[0;34m()\u001b[0m\n\u001b[1;32m      9\u001b[0m \u001b[0ma\u001b[0m\u001b[0;34m=\u001b[0m\u001b[0minput\u001b[0m\u001b[0;34m(\u001b[0m\u001b[0;34m\"enter any number from 1-25\"\u001b[0m\u001b[0;34m)\u001b[0m\u001b[0;34m\u001b[0m\u001b[0;34m\u001b[0m\u001b[0m\n\u001b[1;32m     10\u001b[0m \u001b[0mcount\u001b[0m \u001b[0;34m=\u001b[0m \u001b[0mempty\u001b[0m\u001b[0;34m.\u001b[0m\u001b[0mcount\u001b[0m\u001b[0;34m(\u001b[0m\u001b[0ma\u001b[0m\u001b[0;34m)\u001b[0m\u001b[0;34m\u001b[0m\u001b[0;34m\u001b[0m\u001b[0m\n\u001b[0;32m---> 11\u001b[0;31m \u001b[0mprint\u001b[0m\u001b[0;34m(\u001b[0m\u001b[0;34m\"the count is :\"\u001b[0m\u001b[0;34m+\u001b[0m\u001b[0mstr\u001b[0m\u001b[0;34m(\u001b[0m\u001b[0mcount\u001b[0m\u001b[0;34m)\u001b[0m\u001b[0;34m)\u001b[0m\u001b[0;34m\u001b[0m\u001b[0;34m\u001b[0m\u001b[0m\n\u001b[0m",
            "\u001b[0;31mTypeError\u001b[0m: 'tuple' object is not callable"
          ]
        }
      ]
    }
  ]
}