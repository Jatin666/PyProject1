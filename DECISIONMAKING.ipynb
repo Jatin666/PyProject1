{
  "nbformat": 4,
  "nbformat_minor": 0,
  "metadata": {
    "colab": {
      "name": "Untitled4.ipynb",
      "provenance": [],
      "collapsed_sections": [],
      "authorship_tag": "ABX9TyPqvkKw5sqpuuP/pHKu7IkW",
      "include_colab_link": true
    },
    "kernelspec": {
      "name": "python2",
      "display_name": "Python 2"
    }
  },
  "cells": [
    {
      "cell_type": "markdown",
      "metadata": {
        "id": "view-in-github",
        "colab_type": "text"
      },
      "source": [
        "<a href=\"https://colab.research.google.com/github/Jatin666/PyProject1/blob/master/DECISIONMAKING.ipynb\" target=\"_parent\"><img src=\"https://colab.research.google.com/assets/colab-badge.svg\" alt=\"Open In Colab\"/></a>"
      ]
    },
    {
      "cell_type": "code",
      "metadata": {
        "id": "J_4Zjs5qC1T1",
        "colab_type": "code",
        "colab": {}
      },
      "source": [
        ""
      ],
      "execution_count": 0,
      "outputs": []
    },
    {
      "cell_type": "markdown",
      "metadata": {
        "id": "_6vZthAMC22s",
        "colab_type": "text"
      },
      "source": [
        "**FIFTH PARAMETER**\n",
        "\n",
        "**DECISION MAKING:**\n",
        "\n",
        "1.IF STATEMENT\n",
        "\n",
        "2.ELSE STATEMENT\n",
        "\n",
        "3.ELIF STATEMENT\n",
        "\n"
      ]
    },
    {
      "cell_type": "markdown",
      "metadata": {
        "id": "zzvcCxWlQuNN",
        "colab_type": "text"
      },
      "source": [
        "**FIND RHE GREATEST NUMBER OUT OF THREE NUMBERS CAN BE PREDEFINED OR USERDEFINED**"
      ]
    },
    {
      "cell_type": "code",
      "metadata": {
        "id": "kzjNMy1uQsXw",
        "colab_type": "code",
        "colab": {}
      },
      "source": [
        "a=int(input(\"enter the 1st value\"))\n",
        "b=int(input(\"enter the 2nd value\"))\n",
        "c=int(input(\"enter the 3rd value\"))\n",
        "if(a>b):\n",
        "    if(a>c):\n",
        "        print(\"a is greater\")\n",
        "    else:\n",
        "        print(\"c is greater\")\n",
        "else:\n",
        "    if(b>c):\n",
        "        print(\"b is greater\")\n",
        "    else:\n",
        "        print(\"c is greater\")\n"
      ],
      "execution_count": 0,
      "outputs": []
    },
    {
      "cell_type": "markdown",
      "metadata": {
        "id": "nl0Kbp9071aC",
        "colab_type": "text"
      },
      "source": [
        "**USING OF IF STATEMENT**"
      ]
    },
    {
      "cell_type": "code",
      "metadata": {
        "id": "PI3ykLoU8A5C",
        "colab_type": "code",
        "colab": {}
      },
      "source": [
        "a=2\n",
        "b=1\n",
        "if(a<b):\n",
        "  print(\"b is greater\")"
      ],
      "execution_count": 0,
      "outputs": []
    },
    {
      "cell_type": "markdown",
      "metadata": {
        "id": "Tbrlb9Dp8PyK",
        "colab_type": "text"
      },
      "source": [
        "**USING OF IF ELSE STATEMENT**"
      ]
    },
    {
      "cell_type": "code",
      "metadata": {
        "id": "Vjmyb1GY8VWJ",
        "colab_type": "code",
        "colab": {
          "base_uri": "https://localhost:8080/",
          "height": 34
        },
        "outputId": "aa774471-f3af-411b-825c-330332c2bf1f"
      },
      "source": [
        "a=4\n",
        "b=2\n",
        "if(a>b):\n",
        "  print(\"a is greater\")\n",
        "else:\n",
        "  print(\"b is greater\")"
      ],
      "execution_count": 2,
      "outputs": [
        {
          "output_type": "stream",
          "text": [
            "a is greater\n"
          ],
          "name": "stdout"
        }
      ]
    },
    {
      "cell_type": "markdown",
      "metadata": {
        "id": "b5qYDfTO8oys",
        "colab_type": "text"
      },
      "source": [
        "**USING OF ELIF STATEMENT**"
      ]
    },
    {
      "cell_type": "code",
      "metadata": {
        "id": "lU3J3N9m8vi_",
        "colab_type": "code",
        "colab": {
          "base_uri": "https://localhost:8080/",
          "height": 229
        },
        "outputId": "a7630464-770f-45b4-92bd-fd687e89e7c4"
      },
      "source": [
        "true \n",
        "false\n",
        "if(true):\n",
        "  print(\"i am true\")\n",
        "elif(false):\n",
        "    print(\"i am second statement\")\n",
        "else:\n",
        "  print(\"i m false\")"
      ],
      "execution_count": 5,
      "outputs": [
        {
          "output_type": "error",
          "ename": "NameError",
          "evalue": "ignored",
          "traceback": [
            "\u001b[0;31m\u001b[0m",
            "\u001b[0;31mNameError\u001b[0mTraceback (most recent call last)",
            "\u001b[0;32m<ipython-input-5-7372dec2bee7>\u001b[0m in \u001b[0;36m<module>\u001b[0;34m()\u001b[0m\n\u001b[0;32m----> 1\u001b[0;31m \u001b[0mtrue\u001b[0m\u001b[0;34m\u001b[0m\u001b[0m\n\u001b[0m\u001b[1;32m      2\u001b[0m \u001b[0mfalse\u001b[0m\u001b[0;34m\u001b[0m\u001b[0m\n\u001b[1;32m      3\u001b[0m \u001b[0;32mif\u001b[0m\u001b[0;34m(\u001b[0m\u001b[0mtrue\u001b[0m\u001b[0;34m)\u001b[0m\u001b[0;34m:\u001b[0m\u001b[0;34m\u001b[0m\u001b[0m\n\u001b[1;32m      4\u001b[0m   \u001b[0;32mprint\u001b[0m\u001b[0;34m(\u001b[0m\u001b[0;34m\"i am true\"\u001b[0m\u001b[0;34m)\u001b[0m\u001b[0;34m\u001b[0m\u001b[0m\n\u001b[1;32m      5\u001b[0m \u001b[0;32melif\u001b[0m\u001b[0;34m(\u001b[0m\u001b[0mfalse\u001b[0m\u001b[0;34m)\u001b[0m\u001b[0;34m:\u001b[0m\u001b[0;34m\u001b[0m\u001b[0m\n",
            "\u001b[0;31mNameError\u001b[0m: name 'true' is not defined"
          ]
        }
      ]
    }
  ]
}